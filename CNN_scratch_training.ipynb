{
 "cells": [
  {
   "cell_type": "code",
   "execution_count": 1,
   "metadata": {},
   "outputs": [
    {
     "name": "stderr",
     "output_type": "stream",
     "text": [
      "Using TensorFlow backend.\n"
     ]
    }
   ],
   "source": [
    "# importing the libraries\n",
    "import numpy as np\n",
    "import pandas as pd\n",
    "import matplotlib as mpl\n",
    "import matplotlib.pyplot as plt\n",
    "from glob import glob\n",
    "from keras.preprocessing.image import ImageDataGenerator\n",
    "#from keras.applications.vgg16 import preprocess_input\n",
    "#from keras.models import Sequential\n",
    "#from keras.applications import VGG16 \n",
    "#from keras.layers import Activation, Dense\n",
    "import os\n",
    "\n",
    "\n",
    "from keras.preprocessing.image import ImageDataGenerator\n",
    "\n",
    "import keras \n",
    "from keras.models import Sequential\n",
    "from keras.layers import Dense, Conv2D, MaxPool2D, Dropout, Flatten\n",
    "from keras.callbacks import TensorBoard\n",
    "\n",
    "import matplotlib.pyplot as plt"
   ]
  },
  {
   "cell_type": "code",
   "execution_count": 2,
   "metadata": {},
   "outputs": [],
   "source": [
    "#the path of images on disk\n",
    "TRAIN_DIR='/home/tasneem/Downloads/PH2.16/train'\n",
    "VALID_DIR='/home/tasneem/Downloads/PH2.16/valid/'\n",
    "TEST_DIR='/home/tasneem/Downloads/PH2.16/test/'\n",
    "\n",
    "#TRAIN_DIR = '/home/tasneem/Downloads/data/train'\n",
    "#VALID_DIR = '/home/tasneem/Downloads/data/validation'\n",
    "#TEST_DIR = '/home/tasneem/Downloads/data/test'\n",
    "\n",
    "IMAGE_SIZE=200"
   ]
  },
  {
   "cell_type": "code",
   "execution_count": 3,
   "metadata": {},
   "outputs": [],
   "source": [
    "def classNum():\n",
    "    # useful for getting number of files\n",
    "    image_files = glob(TRAIN_DIR + '/*/*.bmp')\n",
    "    valid_image_files = glob(VALID_DIR + '/*/*.bmp')\n",
    "    # getting the number of classes i.e. type of fruits\n",
    "    folders = glob(TRAIN_DIR + '/*')\n",
    "    num_classes = len(folders)\n",
    "    print ('Total Classes = ' + str(num_classes))"
   ]
  },
  {
   "cell_type": "code",
   "execution_count": 4,
   "metadata": {},
   "outputs": [
    {
     "name": "stdout",
     "output_type": "stream",
     "text": [
      "Found 160 images belonging to 3 classes.\n",
      "Found 20 images belonging to 3 classes.\n",
      "Found 20 images belonging to 3 classes.\n"
     ]
    }
   ],
   "source": [
    "\n",
    "from keras.preprocessing.image import ImageDataGenerator\n",
    "\n",
    "train_datagen = ImageDataGenerator(rescale = 1./255,\n",
    "                                   shear_range = 0.2,\n",
    "                                   zoom_range = 0.2,\n",
    "                                   horizontal_flip = True)\n",
    "\n",
    "test_datagen = ImageDataGenerator(rescale = 1./255)\n",
    "\n",
    "\n",
    "\n",
    "#The above operation is performed so that machine \n",
    "#can recognize sheared, zoomed or horizontal versions of same image from training dataset.\n",
    "\n",
    "\n",
    "\n",
    "train_batches= train_datagen.flow_from_directory(TRAIN_DIR,\n",
    "                                                 target_size=(IMAGE_SIZE,IMAGE_SIZE),\n",
    "                                                 batch_size = 15,\n",
    "                                                class_mode='categorical')\n",
    "valid_batches= ImageDataGenerator().flow_from_directory(VALID_DIR,target_size=(IMAGE_SIZE,IMAGE_SIZE),\n",
    "                                                 batch_size = 5,\n",
    "                                                class_mode='categorical')\n",
    "test_batches= test_datagen.flow_from_directory(TEST_DIR, target_size=(IMAGE_SIZE,IMAGE_SIZE),\n",
    "                                                 batch_size = 5,\n",
    "                                                class_mode='categorical')\n",
    "\n",
    "\n",
    "\n",
    "def plots(ims, figsize=(12,6), rows=1, interp=False, titles=None):\n",
    "      if type(ims[0]) is np.ndarray:\n",
    "            ims= np.array(ims).astype(np.uint8)\n",
    "            if (ims.shape[-1] != 3):\n",
    "                ims = ims.transpose((0,2,3,1))\n",
    "            f = plt.figure(figsize=figsize)\n",
    "            cols = len(ims)//rows if len(ims) % 2 == 0 else len(ims)//rows +1\n",
    "            for i in range(len(ims)):\n",
    "                sp=f.add_subplot(rows, cols, i+1)\n",
    "                sp.axis('Off')\n",
    "                if titles is not None:\n",
    "                    sp.set_title(titles[i], fontsize=16)\n",
    "            plt.imshow(ims[i], interpolation=None if interp else 'none')"
   ]
  },
  {
   "cell_type": "code",
   "execution_count": 5,
   "metadata": {},
   "outputs": [],
   "source": [
    "imgs, labels = next(train_batches)"
   ]
  },
  {
   "cell_type": "code",
   "execution_count": 6,
   "metadata": {},
   "outputs": [
    {
     "name": "stderr",
     "output_type": "stream",
     "text": [
      "/home/tasneem/anaconda3/envs/tf-gpu/lib/python3.6/site-packages/matplotlib/text.py:1191: FutureWarning: elementwise comparison failed; returning scalar instead, but in the future will perform elementwise comparison\n",
      "  if s != self._text:\n"
     ]
    },
    {
     "data": {
      "image/png": "[encoded data removed]",
      "text/plain": [
       "<Figure size 864x432 with 15 Axes>"
      ]
     },
     "metadata": {
      "needs_background": "light"
     },
     "output_type": "display_data"
    }
   ],
   "source": [
    "plots(imgs,titles=labels)"
   ]
  },
  {
   "cell_type": "code",
   "execution_count": 7,
   "metadata": {},
   "outputs": [
    {
     "name": "stdout",
     "output_type": "stream",
     "text": [
      "[[1. 0. 0.]\n",
      " [1. 0. 0.]\n",
      " [0. 1. 0.]\n",
      " [1. 0. 0.]\n",
      " [0. 1. 0.]\n",
      " [1. 0. 0.]\n",
      " [1. 0. 0.]\n",
      " [0. 1. 0.]\n",
      " [1. 0. 0.]\n",
      " [0. 1. 0.]\n",
      " [0. 1. 0.]\n",
      " [1. 0. 0.]\n",
      " [0. 1. 0.]\n",
      " [0. 1. 0.]\n",
      " [0. 1. 0.]]\n"
     ]
    }
   ],
   "source": [
    "print(labels)"
   ]
  },
  {
   "cell_type": "code",
   "execution_count": 8,
   "metadata": {},
   "outputs": [
    {
     "name": "stdout",
     "output_type": "stream",
     "text": [
      "Epoch 1/50\n",
      "32/32 [==============================] - 4s 127ms/step - loss: 1.2930 - acc: 0.3814 - val_loss: 0.9695 - val_acc: 0.4600\n",
      "Epoch 2/50\n",
      "32/32 [==============================] - 3s 85ms/step - loss: 0.9812 - acc: 0.4865 - val_loss: 0.9373 - val_acc: 0.5200\n",
      "Epoch 3/50\n",
      "32/32 [==============================] - 3s 89ms/step - loss: 0.8674 - acc: 0.5615 - val_loss: 0.8675 - val_acc: 0.4800\n",
      "Epoch 4/50\n",
      "32/32 [==============================] - 3s 89ms/step - loss: 0.8203 - acc: 0.5896 - val_loss: 0.8276 - val_acc: 0.6200\n",
      "Epoch 5/50\n",
      "32/32 [==============================] - 3s 89ms/step - loss: 0.8847 - acc: 0.5447 - val_loss: 0.8429 - val_acc: 0.6000\n",
      "Epoch 6/50\n",
      "32/32 [==============================] - 3s 87ms/step - loss: 0.7625 - acc: 0.6365 - val_loss: 0.8031 - val_acc: 0.6000\n",
      "Epoch 7/50\n",
      "32/32 [==============================] - 3s 91ms/step - loss: 0.7581 - acc: 0.6313 - val_loss: 0.7894 - val_acc: 0.5400\n",
      "Epoch 8/50\n",
      "32/32 [==============================] - 3s 89ms/step - loss: 0.7225 - acc: 0.6303 - val_loss: 0.6785 - val_acc: 0.7600\n",
      "Epoch 9/50\n",
      "32/32 [==============================] - 3s 88ms/step - loss: 0.6986 - acc: 0.6489 - val_loss: 0.7583 - val_acc: 0.7400\n",
      "Epoch 10/50\n",
      "32/32 [==============================] - 3s 91ms/step - loss: 0.7416 - acc: 0.6375 - val_loss: 0.7410 - val_acc: 0.7600\n",
      "Epoch 11/50\n",
      "32/32 [==============================] - 3s 91ms/step - loss: 0.6902 - acc: 0.6563 - val_loss: 0.7716 - val_acc: 0.7600\n",
      "Epoch 12/50\n",
      "32/32 [==============================] - 3s 96ms/step - loss: 0.7344 - acc: 0.6219 - val_loss: 0.8021 - val_acc: 0.6800\n",
      "Epoch 13/50\n",
      "32/32 [==============================] - 3s 96ms/step - loss: 0.7205 - acc: 0.6479 - val_loss: 0.6032 - val_acc: 0.8000\n",
      "Epoch 14/50\n",
      "32/32 [==============================] - 3s 90ms/step - loss: 0.6800 - acc: 0.6343 - val_loss: 0.7459 - val_acc: 0.7400\n",
      "Epoch 15/50\n",
      "32/32 [==============================] - 4s 128ms/step - loss: 0.6393 - acc: 0.6635 - val_loss: 0.5896 - val_acc: 0.7800\n",
      "Epoch 16/50\n",
      "32/32 [==============================] - 5s 156ms/step - loss: 0.6303 - acc: 0.6688 - val_loss: 0.7395 - val_acc: 0.7800\n",
      "Epoch 17/50\n",
      "32/32 [==============================] - 5s 149ms/step - loss: 0.5888 - acc: 0.7073 - val_loss: 0.9845 - val_acc: 0.6800\n",
      "Epoch 18/50\n",
      "32/32 [==============================] - 4s 140ms/step - loss: 0.6749 - acc: 0.6626 - val_loss: 0.6286 - val_acc: 0.7600\n",
      "Epoch 19/50\n",
      "32/32 [==============================] - 3s 102ms/step - loss: 0.5996 - acc: 0.7020 - val_loss: 0.6070 - val_acc: 0.7200\n",
      "Epoch 20/50\n",
      "32/32 [==============================] - 3s 92ms/step - loss: 0.6106 - acc: 0.6864 - val_loss: 0.7254 - val_acc: 0.7800\n",
      "Epoch 21/50\n",
      "32/32 [==============================] - 3s 87ms/step - loss: 0.5527 - acc: 0.7312 - val_loss: 0.9345 - val_acc: 0.6000\n",
      "Epoch 22/50\n",
      "32/32 [==============================] - 3s 92ms/step - loss: 0.5554 - acc: 0.7135 - val_loss: 1.0920 - val_acc: 0.7400\n",
      "Epoch 23/50\n",
      "32/32 [==============================] - 3s 88ms/step - loss: 0.5361 - acc: 0.7406 - val_loss: 0.7901 - val_acc: 0.6200\n",
      "Epoch 24/50\n",
      "32/32 [==============================] - 3s 90ms/step - loss: 0.4738 - acc: 0.7697 - val_loss: 0.7134 - val_acc: 0.7600\n",
      "Epoch 25/50\n",
      "32/32 [==============================] - 3s 90ms/step - loss: 0.5252 - acc: 0.7437 - val_loss: 0.6479 - val_acc: 0.7600\n",
      "Epoch 26/50\n",
      "32/32 [==============================] - 3s 100ms/step - loss: 0.5521 - acc: 0.7250 - val_loss: 0.7817 - val_acc: 0.7400\n",
      "Epoch 27/50\n",
      "32/32 [==============================] - 5s 156ms/step - loss: 0.4769 - acc: 0.7593 - val_loss: 0.7661 - val_acc: 0.7200\n",
      "Epoch 28/50\n",
      "32/32 [==============================] - 10s 301ms/step - loss: 0.4518 - acc: 0.7668 - val_loss: 0.4892 - val_acc: 0.7000\n",
      "Epoch 29/50\n",
      "32/32 [==============================] - 7s 234ms/step - loss: 0.4532 - acc: 0.7802 - val_loss: 1.0020 - val_acc: 0.5800\n",
      "Epoch 30/50\n",
      "32/32 [==============================] - 6s 179ms/step - loss: 0.4794 - acc: 0.7573 - val_loss: 0.8873 - val_acc: 0.6800\n",
      "Epoch 31/50\n",
      "32/32 [==============================] - 5s 160ms/step - loss: 0.4652 - acc: 0.7615 - val_loss: 0.6941 - val_acc: 0.6600\n",
      "Epoch 32/50\n",
      "32/32 [==============================] - 4s 128ms/step - loss: 0.4236 - acc: 0.8114 - val_loss: 1.4054 - val_acc: 0.6200\n",
      "Epoch 33/50\n",
      "32/32 [==============================] - 3s 96ms/step - loss: 0.3894 - acc: 0.8250 - val_loss: 0.9321 - val_acc: 0.6000\n",
      "Epoch 34/50\n",
      "32/32 [==============================] - 3s 91ms/step - loss: 0.3926 - acc: 0.8283 - val_loss: 0.9307 - val_acc: 0.6400\n",
      "Epoch 35/50\n",
      "32/32 [==============================] - 3s 92ms/step - loss: 0.3736 - acc: 0.8343 - val_loss: 1.0033 - val_acc: 0.7000\n",
      "Epoch 36/50\n",
      "32/32 [==============================] - 3s 92ms/step - loss: 0.4112 - acc: 0.8302 - val_loss: 1.3836 - val_acc: 0.6600\n",
      "Epoch 37/50\n",
      "32/32 [==============================] - 3s 90ms/step - loss: 0.3488 - acc: 0.8385 - val_loss: 0.9699 - val_acc: 0.6400\n",
      "Epoch 38/50\n",
      "32/32 [==============================] - 3s 94ms/step - loss: 0.3599 - acc: 0.8355 - val_loss: 1.7285 - val_acc: 0.5600\n",
      "Epoch 39/50\n",
      "32/32 [==============================] - 3s 92ms/step - loss: 0.3025 - acc: 0.8697 - val_loss: 2.0781 - val_acc: 0.5600\n",
      "Epoch 40/50\n",
      "32/32 [==============================] - 4s 121ms/step - loss: 0.3367 - acc: 0.8552 - val_loss: 1.6990 - val_acc: 0.5200\n",
      "Epoch 41/50\n",
      "32/32 [==============================] - 5s 156ms/step - loss: 0.4009 - acc: 0.8239 - val_loss: 0.9804 - val_acc: 0.5000\n",
      "Epoch 42/50\n",
      "32/32 [==============================] - 11s 345ms/step - loss: 0.3153 - acc: 0.8698 - val_loss: 0.9514 - val_acc: 0.6600\n",
      "Epoch 43/50\n",
      "32/32 [==============================] - 6s 199ms/step - loss: 0.2826 - acc: 0.8948 - val_loss: 1.0686 - val_acc: 0.6600\n",
      "Epoch 44/50\n",
      "32/32 [==============================] - 5s 156ms/step - loss: 0.3316 - acc: 0.8594 - val_loss: 2.0899 - val_acc: 0.6600\n",
      "Epoch 45/50\n",
      "32/32 [==============================] - 5s 151ms/step - loss: 0.4162 - acc: 0.8490 - val_loss: 0.9789 - val_acc: 0.7400\n",
      "Epoch 46/50\n",
      "32/32 [==============================] - 4s 124ms/step - loss: 0.4752 - acc: 0.8072 - val_loss: 0.8224 - val_acc: 0.7000\n",
      "Epoch 47/50\n",
      "32/32 [==============================] - 3s 100ms/step - loss: 0.3023 - acc: 0.8813 - val_loss: 0.9687 - val_acc: 0.6000\n",
      "Epoch 48/50\n",
      "32/32 [==============================] - 3s 92ms/step - loss: 0.2647 - acc: 0.9146 - val_loss: 1.0648 - val_acc: 0.6200\n",
      "Epoch 49/50\n",
      "32/32 [==============================] - 3s 91ms/step - loss: 0.3395 - acc: 0.8552 - val_loss: 0.9615 - val_acc: 0.7600\n",
      "Epoch 50/50\n",
      "32/32 [==============================] - 3s 90ms/step - loss: 0.3233 - acc: 0.8686 - val_loss: 0.9465 - val_acc: 0.6400\n",
      "_________________________________________________________________\n",
      "Layer (type)                 Output Shape              Param #   \n",
      "=================================================================\n",
      "conv2d_1 (Conv2D)            (None, 198, 198, 32)      896       \n",
      "_________________________________________________________________\n",
      "max_pooling2d_1 (MaxPooling2 (None, 99, 99, 32)        0         \n",
      "_________________________________________________________________\n",
      "conv2d_2 (Conv2D)            (None, 97, 97, 64)        18496     \n",
      "_________________________________________________________________\n",
      "max_pooling2d_2 (MaxPooling2 (None, 48, 48, 64)        0         \n",
      "_________________________________________________________________\n",
      "conv2d_3 (Conv2D)            (None, 46, 46, 128)       73856     \n",
      "_________________________________________________________________\n",
      "max_pooling2d_3 (MaxPooling2 (None, 23, 23, 128)       0         \n",
      "_________________________________________________________________\n",
      "flatten_1 (Flatten)          (None, 67712)             0         \n",
      "_________________________________________________________________\n",
      "dense_1 (Dense)              (None, 512)               34669056  \n",
      "_________________________________________________________________\n",
      "dropout_1 (Dropout)          (None, 512)               0         \n",
      "_________________________________________________________________\n",
      "dense_2 (Dense)              (None, 3)                 1539      \n",
      "=================================================================\n",
      "Total params: 34,763,843\n",
      "Trainable params: 34,763,843\n",
      "Non-trainable params: 0\n",
      "_________________________________________________________________\n",
      "dict_keys(['val_loss', 'val_acc', 'loss', 'acc'])\n"
     ]
    },
    {
     "data": {
      "image/png": "[encoded data removed]",
      "text/plain": [
       "<Figure size 432x288 with 1 Axes>"
      ]
     },
     "metadata": {
      "needs_background": "light"
     },
     "output_type": "display_data"
    },
    {
     "data": {
      "image/png": "[encoded data removed]",
      "text/plain": [
       "<Figure size 432x288 with 1 Axes>"
      ]
     },
     "metadata": {
      "needs_background": "light"
     },
     "output_type": "display_data"
    }
   ],
   "source": [
    "model = Sequential()\n",
    "\n",
    "model.add(Conv2D(32, (3, 3), activation ='relu', input_shape=(200, 200, 3)))\n",
    "model.add(MaxPool2D(pool_size=(2, 2)))\n",
    "\n",
    "model.add(Conv2D(64, (3, 3), activation ='relu'))\n",
    "model.add(MaxPool2D(pool_size=(2, 2)))\n",
    "\n",
    "model.add(Conv2D(128, (3, 3), strides = 1, activation ='relu'))\n",
    "model.add(MaxPool2D(pool_size=(2, 2)))\n",
    "#model.add(Dropout(0.25))\n",
    "model.add(Flatten())\n",
    "model.add(Dense(512, activation ='relu'))\n",
    "model.add(Dropout(0.5))\n",
    "model.add(Dense(3, activation ='softmax'))\n",
    "\n",
    "\n",
    "\n",
    "model.compile( optimizer = 'adam', loss = 'categorical_crossentropy', metrics=['accuracy'])\n",
    "\n",
    "\n",
    "\n",
    "\n",
    "\n",
    "\n",
    "\n",
    "\n",
    "\n",
    "#//هنا نسوي call للداتاسيت ترين\n",
    "#model.fit(train_batches, valid_batches, epochs=15 , batch_size=41)\n",
    "\n",
    "#model.fit(TRAIN_DIR, train_batches, batch_size=41, epochs=15, verbose=1,\n",
    "          #validation_data=(VALID_DIR, valid_batches), callbacks=[])\n",
    "    \n",
    "#model.fit(train_batches, valid_batches, batch_size=41, epochs=3, validation_split=0.3)\n",
    "#history = model.fit_generator(train_batches, \n",
    "#\t\t\t\t \tsteps_per_epoch=3,\n",
    "#\t\t\t\t \tepochs=40,\n",
    "#\t\t\t\t\tvalidation_data=valid_batches,\n",
    "#\t\t\t\t\tvalidation_steps=1,\n",
    "#\t\t\t\t\t)\n",
    "#Python\n",
    "\n",
    "history =model.fit_generator(train_batches,\n",
    "                         steps_per_epoch = (160/5),\n",
    "                         epochs = 50,\n",
    "                         validation_data = test_batches,\n",
    "                         validation_steps = (20/2))\n",
    "\n",
    "\n",
    "model.summary()\n",
    "\n",
    "\n",
    "\n",
    "\n",
    "# list all data in history\n",
    "print(history.history.keys())\n",
    "\n",
    "plt.plot(history.history['val_acc'])\n",
    "plt.plot(history.history['acc'])\n",
    "plt.title('model accuracy')\n",
    "plt.ylabel('accuracy')\n",
    "plt.xlabel('epoch')\n",
    "plt.legend(['train', 'validation'], loc='upper left')\n",
    "plt.show()\n",
    "# summarize history for loss\n",
    "plt.plot(history.history['loss'])\n",
    "plt.plot(history.history['val_loss'])\n",
    "plt.title('model loss')\n",
    "plt.ylabel('loss')\n",
    "plt.xlabel('epoch')\n",
    "plt.legend(['train', 'validation'], loc='upper left')\n",
    "plt.show()\n"
   ]
  },
  {
   "cell_type": "code",
   "execution_count": null,
   "metadata": {},
   "outputs": [],
   "source": []
  }
 ],
 "metadata": {
  "kernelspec": {
   "display_name": "TensorFlow-GPU",
   "language": "python",
   "name": "tf-gpu"
  },
  "language_info": {
   "codemirror_mode": {
    "name": "ipython",
    "version": 3
   },
   "file_extension": ".py",
   "mimetype": "text/x-python",
   "name": "python",
   "nbconvert_exporter": "python",
   "pygments_lexer": "ipython3",
   "version": "3.6.8"
  }
 },
 "nbformat": 4,
 "nbformat_minor": 2
}
