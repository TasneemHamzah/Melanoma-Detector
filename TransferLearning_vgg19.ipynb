{
 "cells": [
  {
   "cell_type": "code",
   "execution_count": 1,
   "metadata": {},
   "outputs": [
    {
     "name": "stderr",
     "output_type": "stream",
     "text": [
      "Using TensorFlow backend.\n"
     ]
    }
   ],
   "source": [
    "# importing the libraries\n",
    "import numpy as np\n",
    "import pandas as pd\n",
    "import matplotlib.pyplot as plt\n",
    "from glob import glob\n",
    "import keras\n",
    "from keras.preprocessing.image import ImageDataGenerator\n",
    "from keras.applications.vgg16 import preprocess_input\n",
    "from keras.models import Sequential\n",
    "from keras.applications import VGG16 \n",
    "from keras.applications import VGG19\n",
    "from keras.layers import Activation, Dense,Flatten,Dropout\n",
    "from keras.preprocessing.image import load_img, img_to_array\n",
    "from keras.callbacks import TensorBoard\n",
    "import cv2\n",
    "import sklearn\n",
    "from sklearn.metrics import confusion_matrix\n",
    "import itertools  \n",
    "import pickle"
   ]
  },
  {
   "cell_type": "code",
   "execution_count": 2,
   "metadata": {},
   "outputs": [],
   "source": [
    "\n",
    "\n",
    "NAME = \"CNN-ph2-transfer-50epoch-2dropsagain-dense5000-20%splits\"\n",
    "\n",
    "tensorboard = TensorBoard(log_dir=\"logs/{}\".format(NAME))\n",
    "\n",
    "#the path of images on disk\n",
    "TRAIN_DIR='PH2Dataset/PH2.16/train/'\n",
    "VALID_DIR='PH2Dataset/PH2.16/valid/'\n",
    "TEST_DIR='PH2Dataset/PH2.16/test/'\n",
    "IMAGE_SIZE=200\n",
    "\n",
    "pickle_in = open(\"X.pickle\",\"rb\")\n",
    "X = pickle.load(pickle_in)\n",
    "\n",
    "pickle_in = open(\"y.pickle\",\"rb\")\n",
    "y = pickle.load(pickle_in)\n",
    "\n",
    "X = X/255.0\n",
    "\n",
    "one_hot_labels = keras.utils.to_categorical(y, num_classes=3)"
   ]
  },
  {
   "cell_type": "code",
   "execution_count": 3,
   "metadata": {},
   "outputs": [],
   "source": [
    "vgg16_model=VGG16(weights='imagenet',include_top=False,input_shape=(200,200,3))\n",
    "\n",
    "model = Sequential()\n",
    "\n"
   ]
  },
  {
   "cell_type": "code",
   "execution_count": 4,
   "metadata": {},
   "outputs": [],
   "source": [
    "for layer in vgg16_model.layers:\n",
    "\n",
    "    model.add(layer)"
   ]
  },
  {
   "cell_type": "code",
   "execution_count": 5,
   "metadata": {},
   "outputs": [],
   "source": [
    "for layer in model.layers[:13]:\n",
    "    layer.trainable = False \n",
    "model.add(Dropout(0.25))  \n",
    "model.add(Flatten())\n",
    "model.add(Dense(5000, activation='relu'))\n",
    "model.add(Dropout(0.5))\n",
    "model.add(Dense(5000, activation='relu'))\n",
    "model.add(Dense(3, activation='softmax'))\n"
   ]
  },
  {
   "cell_type": "code",
   "execution_count": 6,
   "metadata": {},
   "outputs": [],
   "source": [
    "\n",
    "model.compile(loss=\"categorical_crossentropy\",\n",
    "\t\t\t  optimizer=\"adam\",\n",
    "\t\t\t  metrics=[\"accuracy\"])\n",
    "\n",
    "#optimizer='sgd'\n"
   ]
  },
  {
   "cell_type": "code",
   "execution_count": 7,
   "metadata": {
    "scrolled": false
   },
   "outputs": [
    {
     "name": "stdout",
     "output_type": "stream",
     "text": [
      "Train on 144 samples, validate on 36 samples\n",
      "Epoch 1/50\n",
      "144/144 [==============================] - 4s 29ms/step - loss: 10.0145 - acc: 0.2153 - val_loss: 13.4317 - val_acc: 0.1667\n",
      "Epoch 2/50\n",
      "144/144 [==============================] - 1s 9ms/step - loss: 12.8721 - acc: 0.2014 - val_loss: 13.4317 - val_acc: 0.1667\n",
      "Epoch 3/50\n",
      "144/144 [==============================] - 1s 9ms/step - loss: 12.8721 - acc: 0.2014 - val_loss: 13.4317 - val_acc: 0.1667\n",
      "Epoch 4/50\n",
      "144/144 [==============================] - 1s 9ms/step - loss: 12.8721 - acc: 0.2014 - val_loss: 13.4317 - val_acc: 0.1667\n",
      "Epoch 5/50\n",
      "144/144 [==============================] - 1s 10ms/step - loss: 12.8721 - acc: 0.2014 - val_loss: 13.4317 - val_acc: 0.1667\n",
      "Epoch 6/50\n",
      "144/144 [==============================] - 1s 10ms/step - loss: 12.8721 - acc: 0.2014 - val_loss: 13.4317 - val_acc: 0.1667\n",
      "Epoch 7/50\n",
      "144/144 [==============================] - 1s 10ms/step - loss: 12.8721 - acc: 0.2014 - val_loss: 13.4317 - val_acc: 0.1667\n",
      "Epoch 8/50\n",
      "144/144 [==============================] - 1s 10ms/step - loss: 12.8721 - acc: 0.2014 - val_loss: 13.4317 - val_acc: 0.1667\n",
      "Epoch 9/50\n",
      "144/144 [==============================] - 1s 10ms/step - loss: 12.8721 - acc: 0.2014 - val_loss: 13.4317 - val_acc: 0.1667\n",
      "Epoch 10/50\n",
      "144/144 [==============================] - 1s 10ms/step - loss: 12.8721 - acc: 0.2014 - val_loss: 13.4317 - val_acc: 0.1667\n",
      "Epoch 11/50\n",
      "144/144 [==============================] - 1s 10ms/step - loss: 12.8721 - acc: 0.2014 - val_loss: 13.4317 - val_acc: 0.1667\n",
      "Epoch 12/50\n",
      "144/144 [==============================] - 1s 10ms/step - loss: 12.8721 - acc: 0.2014 - val_loss: 13.4317 - val_acc: 0.1667\n",
      "Epoch 13/50\n",
      "144/144 [==============================] - 1s 10ms/step - loss: 12.8721 - acc: 0.2014 - val_loss: 13.4317 - val_acc: 0.1667\n",
      "Epoch 14/50\n",
      "144/144 [==============================] - 1s 10ms/step - loss: 12.8721 - acc: 0.2014 - val_loss: 13.4317 - val_acc: 0.1667\n",
      "Epoch 15/50\n",
      "144/144 [==============================] - 1s 10ms/step - loss: 12.8721 - acc: 0.2014 - val_loss: 13.4317 - val_acc: 0.1667\n",
      "Epoch 16/50\n",
      "144/144 [==============================] - 1s 10ms/step - loss: 12.8721 - acc: 0.2014 - val_loss: 13.4317 - val_acc: 0.1667\n",
      "Epoch 17/50\n",
      "144/144 [==============================] - 1s 10ms/step - loss: 12.8721 - acc: 0.2014 - val_loss: 13.4317 - val_acc: 0.1667\n",
      "Epoch 18/50\n",
      "144/144 [==============================] - 1s 10ms/step - loss: 12.8721 - acc: 0.2014 - val_loss: 13.4317 - val_acc: 0.1667\n",
      "Epoch 19/50\n",
      "144/144 [==============================] - 1s 10ms/step - loss: 12.8721 - acc: 0.2014 - val_loss: 13.4317 - val_acc: 0.1667\n",
      "Epoch 20/50\n",
      "144/144 [==============================] - 1s 10ms/step - loss: 12.8721 - acc: 0.2014 - val_loss: 13.4317 - val_acc: 0.1667\n",
      "Epoch 21/50\n",
      "144/144 [==============================] - 1s 10ms/step - loss: 12.8721 - acc: 0.2014 - val_loss: 13.4317 - val_acc: 0.1667\n",
      "Epoch 22/50\n",
      "144/144 [==============================] - 1s 10ms/step - loss: 12.8721 - acc: 0.2014 - val_loss: 13.4317 - val_acc: 0.1667\n",
      "Epoch 23/50\n",
      "144/144 [==============================] - 1s 10ms/step - loss: 12.8721 - acc: 0.2014 - val_loss: 13.4317 - val_acc: 0.1667\n",
      "Epoch 24/50\n",
      "144/144 [==============================] - 1s 10ms/step - loss: 12.8721 - acc: 0.2014 - val_loss: 13.4317 - val_acc: 0.1667\n",
      "Epoch 25/50\n",
      "144/144 [==============================] - 1s 10ms/step - loss: 12.8721 - acc: 0.2014 - val_loss: 13.4317 - val_acc: 0.1667\n",
      "Epoch 26/50\n",
      "144/144 [==============================] - 1s 10ms/step - loss: 12.8721 - acc: 0.2014 - val_loss: 13.4317 - val_acc: 0.1667\n",
      "Epoch 27/50\n",
      "144/144 [==============================] - 1s 10ms/step - loss: 12.8721 - acc: 0.2014 - val_loss: 13.4317 - val_acc: 0.1667\n",
      "Epoch 28/50\n",
      "144/144 [==============================] - 1s 10ms/step - loss: 12.8721 - acc: 0.2014 - val_loss: 13.4317 - val_acc: 0.1667\n",
      "Epoch 29/50\n",
      "144/144 [==============================] - 1s 10ms/step - loss: 12.8721 - acc: 0.2014 - val_loss: 13.4317 - val_acc: 0.1667\n",
      "Epoch 30/50\n",
      "144/144 [==============================] - 1s 10ms/step - loss: 12.8721 - acc: 0.2014 - val_loss: 13.4317 - val_acc: 0.1667\n",
      "Epoch 31/50\n",
      "144/144 [==============================] - 1s 10ms/step - loss: 12.8721 - acc: 0.2014 - val_loss: 13.4317 - val_acc: 0.1667\n",
      "Epoch 32/50\n",
      "144/144 [==============================] - 1s 10ms/step - loss: 12.8721 - acc: 0.2014 - val_loss: 13.4317 - val_acc: 0.1667\n",
      "Epoch 33/50\n",
      "144/144 [==============================] - 1s 10ms/step - loss: 12.8721 - acc: 0.2014 - val_loss: 13.4317 - val_acc: 0.1667\n",
      "Epoch 34/50\n",
      "144/144 [==============================] - 1s 10ms/step - loss: 12.8721 - acc: 0.2014 - val_loss: 13.4317 - val_acc: 0.1667\n",
      "Epoch 35/50\n",
      "144/144 [==============================] - 1s 10ms/step - loss: 12.8721 - acc: 0.2014 - val_loss: 13.4317 - val_acc: 0.1667\n",
      "Epoch 36/50\n",
      "144/144 [==============================] - 1s 10ms/step - loss: 12.8721 - acc: 0.2014 - val_loss: 13.4317 - val_acc: 0.1667\n",
      "Epoch 37/50\n",
      "144/144 [==============================] - 1s 10ms/step - loss: 12.8721 - acc: 0.2014 - val_loss: 13.4317 - val_acc: 0.1667\n",
      "Epoch 38/50\n",
      "144/144 [==============================] - 1s 9ms/step - loss: 12.8721 - acc: 0.2014 - val_loss: 13.4317 - val_acc: 0.1667\n",
      "Epoch 39/50\n",
      "144/144 [==============================] - 1s 10ms/step - loss: 12.8721 - acc: 0.2014 - val_loss: 13.4317 - val_acc: 0.1667\n",
      "Epoch 40/50\n",
      "144/144 [==============================] - 1s 10ms/step - loss: 12.8721 - acc: 0.2014 - val_loss: 13.4317 - val_acc: 0.1667\n",
      "Epoch 41/50\n",
      "144/144 [==============================] - 1s 10ms/step - loss: 12.8721 - acc: 0.2014 - val_loss: 13.4317 - val_acc: 0.1667\n",
      "Epoch 42/50\n",
      "144/144 [==============================] - 1s 10ms/step - loss: 12.8721 - acc: 0.2014 - val_loss: 13.4317 - val_acc: 0.1667\n",
      "Epoch 43/50\n",
      "144/144 [==============================] - 1s 10ms/step - loss: 12.8721 - acc: 0.2014 - val_loss: 13.4317 - val_acc: 0.1667\n",
      "Epoch 44/50\n",
      "144/144 [==============================] - 1s 10ms/step - loss: 12.8721 - acc: 0.2014 - val_loss: 13.4317 - val_acc: 0.1667\n",
      "Epoch 45/50\n",
      "144/144 [==============================] - 1s 10ms/step - loss: 12.8721 - acc: 0.2014 - val_loss: 13.4317 - val_acc: 0.1667\n",
      "Epoch 46/50\n",
      "144/144 [==============================] - 1s 10ms/step - loss: 12.8721 - acc: 0.2014 - val_loss: 13.4317 - val_acc: 0.1667\n",
      "Epoch 47/50\n",
      "144/144 [==============================] - 1s 10ms/step - loss: 12.8721 - acc: 0.2014 - val_loss: 13.4317 - val_acc: 0.1667\n",
      "Epoch 48/50\n",
      "144/144 [==============================] - 1s 10ms/step - loss: 12.8721 - acc: 0.2014 - val_loss: 13.4317 - val_acc: 0.1667\n",
      "Epoch 49/50\n",
      "144/144 [==============================] - 1s 10ms/step - loss: 12.8721 - acc: 0.2014 - val_loss: 13.4317 - val_acc: 0.1667\n",
      "Epoch 50/50\n",
      "144/144 [==============================] - 1s 10ms/step - loss: 12.8721 - acc: 0.2014 - val_loss: 13.4317 - val_acc: 0.1667\n",
      "dict_keys(['val_loss', 'val_acc', 'loss', 'acc'])\n"
     ]
    },
    {
     "data": {
      "image/png": "[encoded data removed]",
      "text/plain": [
       "<Figure size 432x288 with 1 Axes>"
      ]
     },
     "metadata": {
      "needs_background": "light"
     },
     "output_type": "display_data"
    },
    {
     "data": {
      "image/png": "[encoded data removed]",
      "text/plain": [
       "<Figure size 432x288 with 1 Axes>"
      ]
     },
     "metadata": {
      "needs_background": "light"
     },
     "output_type": "display_data"
    }
   ],
   "source": [
    "history=model.fit(X, one_hot_labels, batch_size=32, epochs=50, validation_split=0.2,callbacks=[tensorboard])\n",
    "#epochs=5,verbose=2\n",
    "\n",
    "# list all data in history\n",
    "print(history.history.keys())\n",
    "\n",
    "plt.plot(history.history['val_acc'])\n",
    "plt.plot(history.history['acc'])\n",
    "plt.title('model accuracy')\n",
    "plt.ylabel('accuracy')\n",
    "plt.xlabel('epoch')\n",
    "plt.legend(['train', 'validation'], loc='upper left')\n",
    "plt.show()\n",
    "# summarize history for loss\n",
    "plt.plot(history.history['loss'])\n",
    "plt.plot(history.history['val_loss'])\n",
    "plt.title('model loss')\n",
    "plt.ylabel('loss')\n",
    "plt.xlabel('epoch')\n",
    "plt.legend(['train', 'validation'], loc='upper left')\n",
    "plt.show()\n"
   ]
  },
  {
   "cell_type": "code",
   "execution_count": null,
   "metadata": {},
   "outputs": [],
   "source": [
    "score, acc=model.evaluate(valid_batches,steps=2)\n",
    "print(score)\n",
    "print(acc)"
   ]
  },
  {
   "cell_type": "code",
   "execution_count": 18,
   "metadata": {},
   "outputs": [
    {
     "data": {
      "text/plain": [
       "0.4000000134110451"
      ]
     },
     "execution_count": 18,
     "metadata": {},
     "output_type": "execute_result"
    }
   ],
   "source": []
  },
  {
   "cell_type": "code",
   "execution_count": 36,
   "metadata": {},
   "outputs": [],
   "source": []
  },
  {
   "cell_type": "code",
   "execution_count": 37,
   "metadata": {},
   "outputs": [
    {
     "data": {
      "text/plain": [
       "array([[0., 1., 0.],\n",
       "       [0., 1., 0.],\n",
       "       [0., 1., 0.],\n",
       "       [0., 1., 0.],\n",
       "       [0., 1., 0.]], dtype=float32)"
      ]
     },
     "execution_count": 37,
     "metadata": {},
     "output_type": "execute_result"
    }
   ],
   "source": []
  },
  {
   "cell_type": "code",
   "execution_count": 38,
   "metadata": {},
   "outputs": [],
   "source": []
  },
  {
   "cell_type": "code",
   "execution_count": 33,
   "metadata": {},
   "outputs": [],
   "source": []
  },
  {
   "cell_type": "code",
   "execution_count": 34,
   "metadata": {},
   "outputs": [
    {
     "name": "stdout",
     "output_type": "stream",
     "text": [
      "confusion matrix, without Normalization\n",
      "[[3 0]\n",
      " [2 0]]\n"
     ]
    },
    {
     "ename": "IndexError",
     "evalue": "tuple index out of range",
     "output_type": "error",
     "traceback": [
      "\u001b[1;31m---------------------------------------------------------------------------\u001b[0m",
      "\u001b[1;31mIndexError\u001b[0m                                Traceback (most recent call last)",
      "\u001b[1;32m<ipython-input-34-2360c112b4b1>\u001b[0m in \u001b[0;36m<module>\u001b[1;34m()\u001b[0m\n\u001b[0;32m      1\u001b[0m \u001b[0mcm_plot_labels\u001b[0m\u001b[1;33m=\u001b[0m\u001b[1;33m[\u001b[0m\u001b[1;34m'Atypical_Nevus'\u001b[0m\u001b[1;33m,\u001b[0m \u001b[1;34m'Common_Nevus'\u001b[0m\u001b[1;33m,\u001b[0m \u001b[1;34m'Melanoma'\u001b[0m\u001b[1;33m]\u001b[0m\u001b[1;33m\u001b[0m\u001b[0m\n\u001b[1;32m----> 2\u001b[1;33m \u001b[0mplot_confusion_matrix\u001b[0m\u001b[1;33m(\u001b[0m\u001b[0mcm\u001b[0m\u001b[1;33m,\u001b[0m \u001b[0mcm_plot_labels\u001b[0m\u001b[1;33m,\u001b[0m \u001b[0mtitle\u001b[0m\u001b[1;33m=\u001b[0m\u001b[1;34m'confusion matrix'\u001b[0m\u001b[1;33m)\u001b[0m\u001b[1;33m\u001b[0m\u001b[0m\n\u001b[0m",
      "\u001b[1;32m<ipython-input-33-23a313b846ea>\u001b[0m in \u001b[0;36mplot_confusion_matrix\u001b[1;34m(cm, classes, normalize, title, cmap)\u001b[0m\n\u001b[0;32m     23\u001b[0m     \u001b[1;31m# the video 2... cat & dog\u001b[0m\u001b[1;33m\u001b[0m\u001b[1;33m\u001b[0m\u001b[0m\n\u001b[0;32m     24\u001b[0m     \u001b[0mthresh\u001b[0m \u001b[1;33m=\u001b[0m \u001b[0mcm\u001b[0m\u001b[1;33m.\u001b[0m\u001b[0mmax\u001b[0m\u001b[1;33m(\u001b[0m\u001b[1;33m)\u001b[0m\u001b[1;33m/\u001b[0m\u001b[1;36m3.\u001b[0m \u001b[1;31m#becouse we have Atypical Nevus ,Common Nevus and Melanoma\u001b[0m\u001b[1;33m\u001b[0m\u001b[0m\n\u001b[1;32m---> 25\u001b[1;33m     \u001b[1;32mfor\u001b[0m \u001b[0mi\u001b[0m\u001b[1;33m,\u001b[0m \u001b[0mj\u001b[0m\u001b[1;33m,\u001b[0m \u001b[0mk\u001b[0m \u001b[1;32min\u001b[0m \u001b[0mitertools\u001b[0m\u001b[1;33m.\u001b[0m\u001b[0mproduct\u001b[0m\u001b[1;33m(\u001b[0m\u001b[0mrange\u001b[0m\u001b[1;33m(\u001b[0m\u001b[0mcm\u001b[0m\u001b[1;33m.\u001b[0m\u001b[0mshape\u001b[0m\u001b[1;33m[\u001b[0m\u001b[1;36m0\u001b[0m\u001b[1;33m]\u001b[0m\u001b[1;33m)\u001b[0m\u001b[1;33m,\u001b[0m \u001b[0mrange\u001b[0m\u001b[1;33m(\u001b[0m\u001b[0mcm\u001b[0m\u001b[1;33m.\u001b[0m\u001b[0mshape\u001b[0m\u001b[1;33m[\u001b[0m\u001b[1;36m1\u001b[0m\u001b[1;33m]\u001b[0m\u001b[1;33m)\u001b[0m\u001b[1;33m,\u001b[0m \u001b[0mrange\u001b[0m\u001b[1;33m(\u001b[0m\u001b[0mcm\u001b[0m\u001b[1;33m.\u001b[0m\u001b[0mshape\u001b[0m\u001b[1;33m[\u001b[0m\u001b[1;36m2\u001b[0m\u001b[1;33m]\u001b[0m\u001b[1;33m)\u001b[0m\u001b[1;33m)\u001b[0m\u001b[1;33m:\u001b[0m\u001b[1;33m\u001b[0m\u001b[0m\n\u001b[0m\u001b[0;32m     26\u001b[0m         plt.text(k, j, i, cm[i, j, k],\n\u001b[0;32m     27\u001b[0m                  \u001b[0mhorizontalalignment\u001b[0m\u001b[1;33m=\u001b[0m\u001b[1;34m\"center\"\u001b[0m\u001b[1;33m,\u001b[0m\u001b[1;33m\u001b[0m\u001b[0m\n",
      "\u001b[1;31mIndexError\u001b[0m: tuple index out of range"
     ]
    },
    {
     "data": {
      "image/png": "[encoded data removed]",
      "text/plain": [
       "<Figure size 432x288 with 2 Axes>"
      ]
     },
     "metadata": {
      "needs_background": "light"
     },
     "output_type": "display_data"
    }
   ],
   "source": []
  },
  {
   "cell_type": "code",
   "execution_count": null,
   "metadata": {
    "collapsed": true
   },
   "outputs": [],
   "source": []
  },
  {
   "cell_type": "code",
   "execution_count": null,
   "metadata": {
    "collapsed": true
   },
   "outputs": [],
   "source": []
  },
  {
   "cell_type": "code",
   "execution_count": null,
   "metadata": {
    "collapsed": true
   },
   "outputs": [],
   "source": []
  }
 ],
 "metadata": {
  "anaconda-cloud": {},
  "kernelspec": {
   "display_name": "TensorFlow-GPU",
   "language": "python",
   "name": "tf-gpu"
  },
  "language_info": {
   "codemirror_mode": {
    "name": "ipython",
    "version": 3
   },
   "file_extension": ".py",
   "mimetype": "text/x-python",
   "name": "python",
   "nbconvert_exporter": "python",
   "pygments_lexer": "ipython3",
   "version": "3.6.8"
  }
 },
 "nbformat": 4,
 "nbformat_minor": 2
}
