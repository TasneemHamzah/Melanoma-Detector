{
 "cells": [
  {
   "cell_type": "code",
   "execution_count": 13,
   "metadata": {},
   "outputs": [],
   "source": [
    "# importing the libraries\n",
    "import numpy as np\n",
    "import pandas as pd\n",
    "import matplotlib as mpl\n",
    "import matplotlib.pyplot as plt\n",
    "from glob import glob\n",
    "from keras.preprocessing.image import ImageDataGenerator\n",
    "from keras.applications.vgg16 import preprocess_input\n",
    "from keras.models import Sequential\n",
    "from keras.applications import VGG16 \n",
    "from keras.layers import Activation, Dense\n",
    "import os\n",
    "\n",
    "\n",
    "from keras.preprocessing.image import ImageDataGenerator\n",
    "\n",
    "import keras \n",
    "from keras.models import Sequential\n",
    "from keras.layers import Dense, Conv2D, MaxPool2D, Dropout, Flatten\n",
    "from keras.callbacks import TensorBoard"
   ]
  },
  {
   "cell_type": "code",
   "execution_count": 14,
   "metadata": {},
   "outputs": [],
   "source": [
    "#the path of images on disk\n",
    "TRAIN_DIR='/home/tasneem/Downloads/PH2.16/train'\n",
    "VALID_DIR='/home/tasneem/Downloads/PH2.16/valid/'\n",
    "TEST_DIR='/home/tasneem/Downloads/PH2.16/test/'\n",
    "\n",
    "IMAGE_SIZE=200"
   ]
  },
  {
   "cell_type": "code",
   "execution_count": 15,
   "metadata": {},
   "outputs": [],
   "source": [
    "def classNum():\n",
    "    # useful for getting number of files\n",
    "    image_files = glob(TRAIN_DIR + '/*/*.bmp')\n",
    "    valid_image_files = glob(VALID_DIR + '/*/*.bmp')\n",
    "    # getting the number of classes i.e. type of fruits\n",
    "    folders = glob(TRAIN_DIR + '/*')\n",
    "    num_classes = len(folders)\n",
    "    print ('Total Classes = ' + str(num_classes))"
   ]
  },
  {
   "cell_type": "code",
   "execution_count": 16,
   "metadata": {},
   "outputs": [
    {
     "name": "stdout",
     "output_type": "stream",
     "text": [
      "Found 160 images belonging to 3 classes.\n",
      "Found 20 images belonging to 3 classes.\n",
      "Found 20 images belonging to 3 classes.\n"
     ]
    }
   ],
   "source": [
    "train_batches= ImageDataGenerator().flow_from_directory(TRAIN_DIR,\n",
    "                                                 target_size=(IMAGE_SIZE,IMAGE_SIZE),\n",
    "                                                 batch_size = 40,\n",
    "                                                class_mode='categorical')\n",
    "valid_batches= ImageDataGenerator().flow_from_directory(VALID_DIR,target_size=(IMAGE_SIZE,IMAGE_SIZE),\n",
    "                                                 batch_size = 5,\n",
    "                                                class_mode='categorical')\n",
    "test_batches= ImageDataGenerator().flow_from_directory(TEST_DIR, target_size=(IMAGE_SIZE,IMAGE_SIZE),\n",
    "                                                 batch_size = 5,\n",
    "                                                class_mode='categorical')\n",
    "\n",
    "\n",
    "\n",
    "def plots(ims, figsize=(12,6), rows=1, interp=False, titles=None):\n",
    "      if type(ims[0]) is np.ndarray:\n",
    "            ims= np.array(ims).astype(np.uint8)\n",
    "            if (ims.shape[-1] != 3):\n",
    "                ims = ims.transpose((0,2,3,1))\n",
    "            f = plt.figure(figsize=figsize)\n",
    "            cols = len(ims)//rows if len(ims) % 2 == 0 else len(ims)//rows +1\n",
    "            for i in range(len(ims)):\n",
    "                sp=f.add_subplot(rows, cols, i+1)\n",
    "                sp.axis('Off')\n",
    "                if titles is not None:\n",
    "                    sp.set_title(titles[i], fontsize=16)\n",
    "            plt.imshow(ims[i], interpolation=None if interp else 'none')"
   ]
  },
  {
   "cell_type": "code",
   "execution_count": 17,
   "metadata": {},
   "outputs": [],
   "source": [
    "imgs, labels = next(train_batches)"
   ]
  },
  {
   "cell_type": "code",
   "execution_count": 18,
   "metadata": {},
   "outputs": [
    {
     "data": {
      "image/png": "[encoded data removed]",
      "text/plain": [
       "<Figure size 864x432 with 40 Axes>"
      ]
     },
     "metadata": {
      "needs_background": "light"
     },
     "output_type": "display_data"
    }
   ],
   "source": [
    "plots(imgs,titles=labels)"
   ]
  },
  {
   "cell_type": "code",
   "execution_count": 25,
   "metadata": {},
   "outputs": [
    {
     "name": "stdout",
     "output_type": "stream",
     "text": [
      "Epoch 1/30\n",
      "3/3 [==============================] - 1s 471ms/step - loss: 8.9758 - acc: 0.4000 - val_loss: 12.8945 - val_acc: 0.2000\n",
      "Epoch 2/30\n",
      "3/3 [==============================] - 0s 84ms/step - loss: 8.7306 - acc: 0.4583 - val_loss: 16.1181 - val_acc: 0.0000e+00\n",
      "Epoch 3/30\n",
      "3/3 [==============================] - 0s 83ms/step - loss: 9.2679 - acc: 0.4250 - val_loss: 9.6709 - val_acc: 0.4000\n",
      "Epoch 4/30\n",
      "3/3 [==============================] - 0s 86ms/step - loss: 10.4768 - acc: 0.3500 - val_loss: 9.6709 - val_acc: 0.4000\n",
      "Epoch 5/30\n",
      "3/3 [==============================] - 0s 88ms/step - loss: 9.2679 - acc: 0.4250 - val_loss: 6.4472 - val_acc: 0.6000\n",
      "Epoch 6/30\n",
      "3/3 [==============================] - 0s 85ms/step - loss: 9.5365 - acc: 0.4083 - val_loss: 9.6709 - val_acc: 0.4000\n",
      "Epoch 7/30\n",
      "3/3 [==============================] - 0s 83ms/step - loss: 9.4022 - acc: 0.4167 - val_loss: 12.8945 - val_acc: 0.2000\n",
      "Epoch 8/30\n",
      "3/3 [==============================] - 0s 83ms/step - loss: 8.5963 - acc: 0.4667 - val_loss: 9.6709 - val_acc: 0.4000\n",
      "Epoch 9/30\n",
      "3/3 [==============================] - 0s 86ms/step - loss: 10.3424 - acc: 0.3583 - val_loss: 9.6709 - val_acc: 0.4000\n",
      "Epoch 10/30\n",
      "3/3 [==============================] - 0s 89ms/step - loss: 9.2679 - acc: 0.4250 - val_loss: 12.8945 - val_acc: 0.2000\n",
      "Epoch 11/30\n",
      "3/3 [==============================] - 0s 86ms/step - loss: 9.8052 - acc: 0.3917 - val_loss: 9.6709 - val_acc: 0.4000\n",
      "Epoch 12/30\n",
      "3/3 [==============================] - 0s 85ms/step - loss: 9.5365 - acc: 0.4083 - val_loss: 9.6709 - val_acc: 0.4000\n",
      "Epoch 13/30\n",
      "3/3 [==============================] - 0s 85ms/step - loss: 9.2679 - acc: 0.4250 - val_loss: 9.6709 - val_acc: 0.4000\n",
      "Epoch 14/30\n",
      "3/3 [==============================] - 0s 84ms/step - loss: 9.2679 - acc: 0.4250 - val_loss: 6.4472 - val_acc: 0.6000\n",
      "Epoch 15/30\n",
      "3/3 [==============================] - 0s 83ms/step - loss: 10.3424 - acc: 0.3583 - val_loss: 12.8945 - val_acc: 0.2000\n",
      "Epoch 16/30\n",
      "3/3 [==============================] - 0s 83ms/step - loss: 8.9993 - acc: 0.4417 - val_loss: 6.4472 - val_acc: 0.6000\n",
      "Epoch 17/30\n",
      "3/3 [==============================] - 0s 84ms/step - loss: 9.2679 - acc: 0.4250 - val_loss: 16.1181 - val_acc: 0.0000e+00\n",
      "Epoch 18/30\n",
      "3/3 [==============================] - 0s 84ms/step - loss: 9.6709 - acc: 0.4000 - val_loss: 16.1181 - val_acc: 0.0000e+00\n",
      "Epoch 19/30\n",
      "3/3 [==============================] - 0s 83ms/step - loss: 8.7306 - acc: 0.4583 - val_loss: 6.4472 - val_acc: 0.6000\n",
      "Epoch 20/30\n",
      "3/3 [==============================] - 0s 84ms/step - loss: 9.5365 - acc: 0.4083 - val_loss: 9.6709 - val_acc: 0.4000\n",
      "Epoch 21/30\n",
      "3/3 [==============================] - 0s 85ms/step - loss: 9.9395 - acc: 0.3833 - val_loss: 9.6709 - val_acc: 0.4000\n",
      "Epoch 22/30\n",
      "3/3 [==============================] - 0s 84ms/step - loss: 8.7306 - acc: 0.4583 - val_loss: 16.1181 - val_acc: 0.0000e+00\n",
      "Epoch 23/30\n",
      "3/3 [==============================] - 0s 84ms/step - loss: 10.6111 - acc: 0.3417 - val_loss: 9.6709 - val_acc: 0.4000\n",
      "Epoch 24/30\n",
      "3/3 [==============================] - 0s 83ms/step - loss: 9.4022 - acc: 0.4167 - val_loss: 9.6709 - val_acc: 0.4000\n",
      "Epoch 25/30\n",
      "3/3 [==============================] - 0s 85ms/step - loss: 9.1336 - acc: 0.4333 - val_loss: 6.4472 - val_acc: 0.6000\n",
      "Epoch 26/30\n",
      "3/3 [==============================] - 0s 85ms/step - loss: 9.2679 - acc: 0.4250 - val_loss: 12.8945 - val_acc: 0.2000\n",
      "Epoch 27/30\n",
      "3/3 [==============================] - 0s 84ms/step - loss: 10.0738 - acc: 0.3750 - val_loss: 12.8945 - val_acc: 0.2000\n",
      "Epoch 28/30\n",
      "3/3 [==============================] - 0s 83ms/step - loss: 8.7306 - acc: 0.4583 - val_loss: 3.2236 - val_acc: 0.8000\n",
      "Epoch 29/30\n",
      "3/3 [==============================] - 0s 84ms/step - loss: 9.8052 - acc: 0.3917 - val_loss: 12.8945 - val_acc: 0.2000\n",
      "Epoch 30/30\n",
      "3/3 [==============================] - 0s 83ms/step - loss: 9.1336 - acc: 0.4333 - val_loss: 12.8945 - val_acc: 0.2000\n",
      "_________________________________________________________________\n",
      "Layer (type)                 Output Shape              Param #   \n",
      "=================================================================\n",
      "conv2d_19 (Conv2D)           (None, 198, 198, 32)      896       \n",
      "_________________________________________________________________\n",
      "max_pooling2d_19 (MaxPooling (None, 99, 99, 32)        0         \n",
      "_________________________________________________________________\n",
      "conv2d_20 (Conv2D)           (None, 97, 97, 64)        18496     \n",
      "_________________________________________________________________\n",
      "max_pooling2d_20 (MaxPooling (None, 48, 48, 64)        0         \n",
      "_________________________________________________________________\n",
      "conv2d_21 (Conv2D)           (None, 46, 46, 128)       73856     \n",
      "_________________________________________________________________\n",
      "max_pooling2d_21 (MaxPooling (None, 23, 23, 128)       0         \n",
      "_________________________________________________________________\n",
      "flatten_7 (Flatten)          (None, 67712)             0         \n",
      "_________________________________________________________________\n",
      "dense_13 (Dense)             (None, 512)               34669056  \n",
      "_________________________________________________________________\n",
      "dropout_7 (Dropout)          (None, 512)               0         \n",
      "_________________________________________________________________\n",
      "dense_14 (Dense)             (None, 3)                 1539      \n",
      "=================================================================\n",
      "Total params: 34,763,843\n",
      "Trainable params: 34,763,843\n",
      "Non-trainable params: 0\n",
      "_________________________________________________________________\n"
     ]
    }
   ],
   "source": [
    "model = Sequential()\n",
    "\n",
    "model.add(Conv2D(32, (3, 3), activation ='relu', input_shape=(200, 200, 3)))\n",
    "model.add(MaxPool2D(pool_size=(2, 2)))\n",
    "\n",
    "model.add(Conv2D(64, (3, 3), activation ='relu'))\n",
    "model.add(MaxPool2D(pool_size=(2, 2)))\n",
    "\n",
    "model.add(Conv2D(128, (3, 3), strides = 1, activation ='relu'))\n",
    "model.add(MaxPool2D(pool_size=(2, 2)))\n",
    "\n",
    "model.add(Flatten())\n",
    "model.add(Dense(512, activation ='relu'))\n",
    "model.add(Dropout(0.5))\n",
    "model.add(Dense(3, activation ='softmax'))\n",
    "\n",
    "model.compile( optimizer = 'adam', loss = 'categorical_crossentropy', metrics=['accuracy'])\n",
    "#//هنا نسوي call للداتاسيت ترين\n",
    "#model.fit(train_batches, valid_batches, epochs=15 , batch_size=41)\n",
    "\n",
    "#model.fit(TRAIN_DIR, train_batches, batch_size=41, epochs=15, verbose=1,\n",
    "          #validation_data=(VALID_DIR, valid_batches), callbacks=[])\n",
    "    \n",
    "#model.fit(train_batches, valid_batches, batch_size=41, epochs=3, validation_split=0.3)\n",
    "history = model.fit_generator(train_batches, \n",
    "\t\t\t\t \tsteps_per_epoch=3,\n",
    "\t\t\t\t \tepochs=30,\n",
    "\t\t\t\t\tvalidation_data=valid_batches,\n",
    "\t\t\t\t\tvalidation_steps=1,\n",
    "\t\t\t\t\t)\n",
    "\n",
    "model.summary()"
   ]
  },
  {
   "cell_type": "code",
   "execution_count": null,
   "metadata": {},
   "outputs": [],
   "source": []
  }
 ],
 "metadata": {
  "kernelspec": {
   "display_name": "TensorFlow-GPU",
   "language": "python",
   "name": "tf-gpu"
  },
  "language_info": {
   "codemirror_mode": {
    "name": "ipython",
    "version": 3
   },
   "file_extension": ".py",
   "mimetype": "text/x-python",
   "name": "python",
   "nbconvert_exporter": "python",
   "pygments_lexer": "ipython3",
   "version": "3.6.8"
  }
 },
 "nbformat": 4,
 "nbformat_minor": 2
}
