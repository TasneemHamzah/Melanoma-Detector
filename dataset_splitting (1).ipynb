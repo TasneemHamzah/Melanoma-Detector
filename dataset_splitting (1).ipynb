{
 "cells": [
  {
   "cell_type": "code",
   "execution_count": 131,
   "metadata": {},
   "outputs": [],
   "source": [
    "import os"
   ]
  },
  {
   "cell_type": "code",
   "execution_count": 132,
   "metadata": {},
   "outputs": [],
   "source": [
    "PATH=\"./PH2Dataset/PH2/\"\n",
    "OUTPATH=\"./PH2Dataset/PH2.16/\""
   ]
  },
  {
   "cell_type": "code",
   "execution_count": 133,
   "metadata": {},
   "outputs": [],
   "source": [
    "import shutil\n",
    "import numpy as np\n",
    "classes = ('Melanoma', 'Common Nevus', 'Atypical Nevus')\n",
    "stats = (np.array([ 0.4914 ,  0.48216,  0.44653]), np.array([ 0.24703,  0.24349,  0.26159]))"
   ]
  },
  {
   "cell_type": "code",
   "execution_count": 134,
   "metadata": {},
   "outputs": [],
   "source": [
    "\n",
    "for x in classes:\n",
    "    os.makedirs(OUTPATH+'train/'+x,exist_ok=True)\n",
    "    os.makedirs(OUTPATH+'valid/'+x,exist_ok=True)  \n",
    "    os.makedirs(OUTPATH+'test/'+x,exist_ok=True) "
   ]
  },
  {
   "cell_type": "code",
   "execution_count": 135,
   "metadata": {},
   "outputs": [
    {
     "name": "stdout",
     "output_type": "stream",
     "text": [
      "200\n"
     ]
    }
   ],
   "source": [
    "filenames = os.listdir(PATH)\n",
    "counts = {x:0 for x in classes}\n",
    "print(len(filenames))"
   ]
  },
  {
   "cell_type": "code",
   "execution_count": 136,
   "metadata": {},
   "outputs": [],
   "source": [
    "import random\n",
    "\n",
    "filenames.sort()  # make sure that the filenames have a fixed order before shuffling\n",
    "random.seed(20)#To make sure to have the same split each time this code is run\n",
    "random.shuffle(filenames) # shuffles the ordering of filenames (same distribution for train, dev and test sets)(deterministic given the chosen seed)\n",
    "\n",
    "# split the data into three sets: 80% train, 10% dev and 10% test\n",
    "split_1 = int(0.8 * len(filenames))\n",
    "split_2 = int(0.9 * len(filenames))\n",
    "train_filenames = filenames[:split_1]\n",
    "dev_filenames = filenames[split_1:split_2]\n",
    "test_filenames = filenames[split_2:]\n"
   ]
  },
  {
   "cell_type": "code",
   "execution_count": 137,
   "metadata": {},
   "outputs": [],
   "source": [
    "for file_n in test_filenames:\n",
    "    for c in classes:\n",
    "        if c in file_n:\n",
    "            shutil.copy(PATH+file_n,OUTPATH+'test/'+c+'/'+file_n)\n",
    "\n"
   ]
  },
  {
   "cell_type": "code",
   "execution_count": 138,
   "metadata": {},
   "outputs": [],
   "source": [
    "for file_n in train_filenames:\n",
    "    for c in classes:\n",
    "        if c in file_n:\n",
    "            shutil.copy(PATH+file_n,OUTPATH+'train/'+c+'/'+file_n)\n",
    "\n"
   ]
  },
  {
   "cell_type": "code",
   "execution_count": 139,
   "metadata": {},
   "outputs": [],
   "source": [
    "for file_n in dev_filenames:\n",
    "    for c in classes:\n",
    "        if c in file_n:\n",
    "            shutil.copy(PATH+file_n,OUTPATH+'valid/'+c+'/'+file_n)\n",
    "\n"
   ]
  },
  {
   "cell_type": "code",
   "execution_count": null,
   "metadata": {},
   "outputs": [],
   "source": []
  },
  {
   "cell_type": "code",
   "execution_count": null,
   "metadata": {},
   "outputs": [],
   "source": []
  },
  {
   "cell_type": "code",
   "execution_count": null,
   "metadata": {},
   "outputs": [],
   "source": []
  }
 ],
 "metadata": {
  "kernelspec": {
   "display_name": "Python 3",
   "language": "python",
   "name": "python3"
  },
  "language_info": {
   "codemirror_mode": {
    "name": "ipython",
    "version": 3
   },
   "file_extension": ".py",
   "mimetype": "text/x-python",
   "name": "python",
   "nbconvert_exporter": "python",
   "pygments_lexer": "ipython3",
   "version": "3.5.6"
  }
 },
 "nbformat": 4,
 "nbformat_minor": 2
}
